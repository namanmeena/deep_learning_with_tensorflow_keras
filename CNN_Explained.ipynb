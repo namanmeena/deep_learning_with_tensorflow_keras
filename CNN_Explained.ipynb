{
 "cells": [
  {
   "cell_type": "markdown",
   "metadata": {
    "colab_type": "text",
    "id": "oNpsZLGod580"
   },
   "source": [
    "# CNNs in TensorFlow with Keras"
   ]
  },
  {
   "cell_type": "code",
   "execution_count": 28,
   "metadata": {
    "colab": {
     "base_uri": "https://localhost:8080/",
     "height": 34
    },
    "colab_type": "code",
    "id": "G9faDoKg0YLx",
    "outputId": "d72d171a-1031-438e-f44e-d2784c7d7bdc"
   },
   "outputs": [
    {
     "name": "stdout",
     "output_type": "stream",
     "text": [
      "TensorFlow version: 2.0.0\n"
     ]
    }
   ],
   "source": [
    "import tensorflow as tf\n",
    "if int(tf.__version__.split(\".\")[0]) < 2:\n",
    "    !pip install tensorflow --upgrade\n",
    "else:\n",
    "    print(\"TensorFlow version:\", tf.__version__)"
   ]
  },
  {
   "cell_type": "code",
   "execution_count": 2,
   "metadata": {
    "colab": {},
    "colab_type": "code",
    "id": "hUO9tzJmd582"
   },
   "outputs": [],
   "source": [
    "import pandas as pd\n",
    "import matplotlib.pyplot as plt\n",
    "import numpy as np\n",
    "from tensorflow.keras.callbacks import TensorBoard\n",
    "import time"
   ]
  },
  {
   "cell_type": "markdown",
   "metadata": {
    "colab_type": "text",
    "id": "aztJ8ySMNTEU"
   },
   "source": [
    "## Quick Recap - Machine Learning\n",
    "\n",
    "- Identifying a relationship between the `input_features` and the `target`.\n",
    "- Relationship in mathematical terms can be understood as a function.\n",
    "\n",
    "For example:\n",
    "\n",
    "`y = 2x-1`  \n",
    "or \n",
    "\n",
    "`f(x) = 2x-1`  \n",
    "Now, lets try and model it first using our machine learning model."
   ]
  },
  {
   "cell_type": "markdown",
   "metadata": {
    "colab_type": "text",
    "id": "fm4-TjdXNTHi"
   },
   "source": [
    "## Creating a machine learning model with keras.\n",
    "\n",
    "We will create a model with one neuron and will feed 1 feature to it i.e. x, to predict y.\n",
    "\n",
    "<center>\n",
    "<img src=\"dl-teach-imgs/ml_model.png\" height=\"400\" width=\"400\" />\n",
    "</center>"
   ]
  },
  {
   "cell_type": "code",
   "execution_count": 3,
   "metadata": {
    "colab": {},
    "colab_type": "code",
    "id": "2VAlO3arNTKS"
   },
   "outputs": [],
   "source": [
    "# Machine Learning Regression Model with Keras\n",
    "model = tf.keras.Sequential([tf.keras.layers.Dense(units=1, input_shape=[1])])"
   ]
  },
  {
   "cell_type": "markdown",
   "metadata": {
    "colab_type": "text",
    "id": "hEvQo9NUNTNF"
   },
   "source": [
    "After defining the layer, we have to compile the model with appropriate optimizer and loss."
   ]
  },
  {
   "cell_type": "markdown",
   "metadata": {
    "colab_type": "text",
    "id": "ai49-nc-SQNd"
   },
   "source": [
    "## Compiling Model, requires two important things, `loss` and `optimizer`.\n",
    "\n",
    "### What is Loss?\n",
    "\n",
    "A mathematical way of measuring how wrong your predictions are.\n",
    "\n",
    "\n",
    "### How do we minimize loss?\n",
    "By updating weights.\n",
    "\n",
    "During the training process, we tweak and change the parameters (weights) of our model to try and minimize the `loss`, and make our predictions as correct as possible. But how exactly do you do that? How do you change the parameters of your model, by how much, and when?\n",
    "\n",
    "**Your features has weights associated with them**. So, when you're updating the weights of our model by taking the derivative of them with respect to loss function, it roughly translates to this:\n",
    "\n",
    "<img src='http://chrisjmccormick.files.wordpress.com/2014/02/gradientdescentupdate.png' />\n",
    "\n",
    "Where, `theta` is the weight parameter.\n",
    "\n",
    "This is the update process.\n",
    "\n",
    "This is where `optimizers` come in. They tie together the loss function and model parameters by updating the model in response to the output of the loss function. In simpler terms, optimizers shape and mold your model into its most accurate possible form by futzing with the weights. The loss function is the guide to the terrain, telling the optimizer when it’s moving in the right or wrong direction.\n",
    "\n",
    "\n",
    "<img src='https://miro.medium.com/max/1600/0*00BrbBeDrFOjocpK.' height='600' width='600' />\n",
    "\n",
    "\n",
    "### Now, what does optimizer do?\n",
    "\n",
    "\n",
    "Well, as the name suggests it optimizes the descent, or in simpler terms, optimizes the steps in the path down the hill towards our minima.\n",
    "\n",
    "There are several optimizers based on Gradient Descent which does this. Below is the example of RMSProp.\n",
    "\n",
    "<img src='dl-teach-imgs/optimizer.png' />\n",
    "\n"
   ]
  },
  {
   "cell_type": "code",
   "execution_count": 4,
   "metadata": {},
   "outputs": [],
   "source": [
    "model.compile(optimizer='sgd', loss='mean_squared_error',metrics=['accuracy'])"
   ]
  },
  {
   "cell_type": "markdown",
   "metadata": {},
   "source": [
    "### Creating our dataset\n",
    "\n",
    "The below dataset has `y=2x-1` relationship. But our model does not know this relationship, and we are going to train it with the data so it can identify this pattern on its own."
   ]
  },
  {
   "cell_type": "code",
   "execution_count": 5,
   "metadata": {},
   "outputs": [],
   "source": [
    "xs = np.array([-1.0,  0.0, 1.0, 2.0, 3.0, 4.0], dtype=float)\n",
    "ys = np.array([-3.0, -1.0, 1.0, 3.0, 5.0, 7.0], dtype=float)"
   ]
  },
  {
   "cell_type": "markdown",
   "metadata": {},
   "source": [
    "### Training the model"
   ]
  },
  {
   "cell_type": "code",
   "execution_count": 6,
   "metadata": {},
   "outputs": [
    {
     "name": "stdout",
     "output_type": "stream",
     "text": [
      "Train on 6 samples\n",
      "Epoch 1/10\n",
      "6/6 - 0s - loss: 6.1638 - accuracy: 0.1667\n",
      "Epoch 2/10\n",
      "6/6 - 0s - loss: 5.0335 - accuracy: 0.1667\n",
      "Epoch 3/10\n",
      "6/6 - 0s - loss: 4.1404 - accuracy: 0.1667\n",
      "Epoch 4/10\n",
      "6/6 - 0s - loss: 3.4341 - accuracy: 0.1667\n",
      "Epoch 5/10\n",
      "6/6 - 0s - loss: 2.8748 - accuracy: 0.1667\n",
      "Epoch 6/10\n",
      "6/6 - 0s - loss: 2.4311 - accuracy: 0.1667\n",
      "Epoch 7/10\n",
      "6/6 - 0s - loss: 2.0787 - accuracy: 0.1667\n",
      "Epoch 8/10\n",
      "6/6 - 0s - loss: 1.7979 - accuracy: 0.1667\n",
      "Epoch 9/10\n",
      "6/6 - 0s - loss: 1.5737 - accuracy: 0.1667\n",
      "Epoch 10/10\n",
      "6/6 - 0s - loss: 1.3941 - accuracy: 0.1667\n"
     ]
    },
    {
     "data": {
      "text/plain": [
       "<tensorflow.python.keras.callbacks.History at 0x63229cbe0>"
      ]
     },
     "execution_count": 6,
     "metadata": {},
     "output_type": "execute_result"
    }
   ],
   "source": [
    "model.fit(xs, ys, epochs=10, verbose = 2)"
   ]
  },
  {
   "cell_type": "markdown",
   "metadata": {},
   "source": [
    "### Let's predict the weight for our height"
   ]
  },
  {
   "cell_type": "code",
   "execution_count": 7,
   "metadata": {},
   "outputs": [
    {
     "name": "stdout",
     "output_type": "stream",
     "text": [
      "[[13.559509]]\n"
     ]
    }
   ],
   "source": [
    "print(model.predict([10.0]))"
   ]
  },
  {
   "cell_type": "markdown",
   "metadata": {},
   "source": [
    "### Let's train again with `500 epochs` to improve prediction"
   ]
  },
  {
   "cell_type": "code",
   "execution_count": 8,
   "metadata": {},
   "outputs": [
    {
     "data": {
      "text/plain": [
       "<tensorflow.python.keras.callbacks.History at 0x6327c9be0>"
      ]
     },
     "execution_count": 8,
     "metadata": {},
     "output_type": "execute_result"
    }
   ],
   "source": [
    "model = tf.keras.Sequential([tf.keras.layers.Dense(units=1, input_shape=[1])])\n",
    "model.compile(optimizer='sgd', loss='mean_squared_error',metrics=['accuracy'])\n",
    "model.fit(xs, ys, epochs=500, verbose = 0)"
   ]
  },
  {
   "cell_type": "code",
   "execution_count": 9,
   "metadata": {},
   "outputs": [
    {
     "name": "stdout",
     "output_type": "stream",
     "text": [
      "[[18.98619]]\n"
     ]
    }
   ],
   "source": [
    "print(model.predict([10.0]))"
   ]
  },
  {
   "cell_type": "markdown",
   "metadata": {},
   "source": [
    "Well, its almost `19`, based on the pattern `y=2x-1`."
   ]
  },
  {
   "cell_type": "markdown",
   "metadata": {},
   "source": [
    "## Let's now try a Deep Neural Network with 2 hidden layers\n",
    "\n",
    "#### BTW, how deep is actually deep?\n",
    "It can be as much as you want it, from `100 layers` to `1000 layers`.\n",
    "\n",
    "But to clarify, when we say 100 layers deep, we mean that 100 hidden layers are present between input and output layer of the model.\n",
    "\n",
    "### Problem statement\n",
    "\n",
    "Build a **Neural Network** that predicts the price of a house according to a simple formula.\n",
    "\n",
    "Formula is:\n",
    "\n",
    "`house price = 50k base price + 50k per bedroom`\n",
    "\n",
    "So, imagine if house pricing was as easy as a house costs 50k + 50k per bedroom, so that a 1 bedroom house costs 100k, a 2 bedroom house costs 150k etc.\n",
    "\n",
    "How would you create a neural network that learns this relationship so that it would predict a 7 bedroom house as costing close to 400k etc.\n",
    "\n",
    "Hint: Your network might work better if you scale the house price down. You don't have to give the answer 400...it might be better to create something that predicts the number 4, and then your answer is in the 'hundreds of thousands' etc."
   ]
  },
  {
   "cell_type": "code",
   "execution_count": 10,
   "metadata": {},
   "outputs": [
    {
     "name": "stdout",
     "output_type": "stream",
     "text": [
      "Model: \"sequential_2\"\n",
      "_________________________________________________________________\n",
      "Layer (type)                 Output Shape              Param #   \n",
      "=================================================================\n",
      "dense_2 (Dense)              (None, 1)                 2         \n",
      "_________________________________________________________________\n",
      "dense_3 (Dense)              (None, 4)                 8         \n",
      "_________________________________________________________________\n",
      "dense_4 (Dense)              (None, 3)                 15        \n",
      "_________________________________________________________________\n",
      "dense_5 (Dense)              (None, 1)                 4         \n",
      "=================================================================\n",
      "Total params: 29\n",
      "Trainable params: 29\n",
      "Non-trainable params: 0\n",
      "_________________________________________________________________\n"
     ]
    }
   ],
   "source": [
    "import tensorflow as tf\n",
    "import numpy as np\n",
    "from tensorflow import keras\n",
    "model = tf.keras.Sequential([\n",
    "    tf.keras.layers.Dense(units=1, input_shape=[1]),\n",
    "    tf.keras.layers.Dense(units=4),\n",
    "    tf.keras.layers.Dense(units=3),\n",
    "    tf.keras.layers.Dense(units=1)\n",
    "])\n",
    "model.compile(optimizer='sgd', loss='mean_squared_error')\n",
    "xs = np.array([1.0, 2.0, 3.0, 4.0, 5.0, 6.0], dtype=float)\n",
    "ys = np.array([1.0, 1.5, 2.0, 2.5, 3.0, 3.5], dtype=float)\n",
    "model.summary()"
   ]
  },
  {
   "cell_type": "markdown",
   "metadata": {},
   "source": [
    "### Visual representation of the neural network architecture above\n",
    "<img src='dl-teach-imgs/model_2.png' height='300' width='300' />"
   ]
  },
  {
   "cell_type": "code",
   "execution_count": 11,
   "metadata": {},
   "outputs": [
    {
     "data": {
      "text/plain": [
       "<tensorflow.python.keras.callbacks.History at 0x632c84dd8>"
      ]
     },
     "execution_count": 11,
     "metadata": {},
     "output_type": "execute_result"
    }
   ],
   "source": [
    "model.fit(xs, ys, epochs=500, verbose=0)"
   ]
  },
  {
   "cell_type": "code",
   "execution_count": 12,
   "metadata": {},
   "outputs": [
    {
     "name": "stdout",
     "output_type": "stream",
     "text": [
      "[[4.000046]]\n"
     ]
    }
   ],
   "source": [
    "print(model.predict([7.0]))"
   ]
  },
  {
   "cell_type": "markdown",
   "metadata": {},
   "source": [
    "## Solving Hand written Digit Recognition problem with CNNs"
   ]
  },
  {
   "cell_type": "markdown",
   "metadata": {
    "colab_type": "text",
    "id": "Q21zqwpOd58-"
   },
   "source": [
    "### Loading dataset"
   ]
  },
  {
   "cell_type": "code",
   "execution_count": 13,
   "metadata": {
    "colab": {},
    "colab_type": "code",
    "id": "FzYhF8Z9d58_"
   },
   "outputs": [],
   "source": [
    "mnist = tf.keras.datasets.mnist"
   ]
  },
  {
   "cell_type": "code",
   "execution_count": 14,
   "metadata": {
    "colab": {
     "base_uri": "https://localhost:8080/",
     "height": 51
    },
    "colab_type": "code",
    "id": "aDTycgpwd59B",
    "outputId": "c2fb395f-16ca-493c-fa29-dfe360983171"
   },
   "outputs": [],
   "source": [
    "(x_train,y_train), (x_test, y_test) = mnist.load_data()"
   ]
  },
  {
   "cell_type": "code",
   "execution_count": 15,
   "metadata": {
    "colab": {
     "base_uri": "https://localhost:8080/",
     "height": 51
    },
    "colab_type": "code",
    "id": "Vp6IaJsrd59D",
    "outputId": "1b04f870-d489-45e8-873e-8e20c70e4a95"
   },
   "outputs": [
    {
     "name": "stdout",
     "output_type": "stream",
     "text": [
      "Size of train data: 60000\n",
      "Size of test data: 10000\n"
     ]
    }
   ],
   "source": [
    "print(\"Size of train data:\",len(x_train))\n",
    "print(\"Size of test data:\",len(x_test))"
   ]
  },
  {
   "cell_type": "code",
   "execution_count": 16,
   "metadata": {
    "colab": {
     "base_uri": "https://localhost:8080/",
     "height": 34
    },
    "colab_type": "code",
    "id": "LnaJ0t-7d59G",
    "outputId": "b99be3de-3f8f-4667-cb22-ed2cbb17f0bd"
   },
   "outputs": [
    {
     "data": {
      "text/plain": [
       "(60000, 28, 28)"
      ]
     },
     "execution_count": 16,
     "metadata": {},
     "output_type": "execute_result"
    }
   ],
   "source": [
    "x_train.shape"
   ]
  },
  {
   "cell_type": "markdown",
   "metadata": {
    "colab_type": "text",
    "id": "Oxo4ngyId59J"
   },
   "source": [
    "### Lets visualize what the dataset is having"
   ]
  },
  {
   "cell_type": "code",
   "execution_count": 17,
   "metadata": {
    "colab": {
     "base_uri": "https://localhost:8080/",
     "height": 265
    },
    "colab_type": "code",
    "id": "xJn8c-Rmd59K",
    "outputId": "b2039bfc-dac3-418d-f94c-e3b3b4a5c26a"
   },
   "outputs": [
    {
     "data": {
      "image/png": "[encoded data removed]",
      "text/plain": [
       "<Figure size 432x288 with 1 Axes>"
      ]
     },
     "metadata": {
      "needs_background": "light"
     },
     "output_type": "display_data"
    },
    {
     "name": "stdout",
     "output_type": "stream",
     "text": [
      "Label: 5\n"
     ]
    }
   ],
   "source": [
    "plt.imshow(x_train[0].reshape(28, 28),cmap = plt.cm.binary)\n",
    "plt.show()\n",
    "print(\"Label: {}\".format(y_train[0]))"
   ]
  },
  {
   "cell_type": "markdown",
   "metadata": {
    "colab_type": "text",
    "id": "Ig8Lj-Rtd59N"
   },
   "source": [
    "#### Now lets see what one example row of this dataset looks like"
   ]
  },
  {
   "cell_type": "code",
   "execution_count": 18,
   "metadata": {
    "colab": {
     "base_uri": "https://localhost:8080/",
     "height": 51
    },
    "colab_type": "code",
    "id": "uZBTxFlGd59R",
    "outputId": "ef9f7c1f-57e2-4426-d634-a29c65602ad5"
   },
   "outputs": [
    {
     "name": "stdout",
     "output_type": "stream",
     "text": [
      "x_train shape: (60000, 28, 28, 1)\n",
      "x_test shape: (10000, 28, 28, 1)\n"
     ]
    }
   ],
   "source": [
    "x_train = x_train.reshape((x_train.shape[0], 28, 28, 1))\n",
    "x_test = x_test.reshape((x_test.shape[0], 28, 28, 1))\n",
    "\n",
    "print(\"x_train shape:\",x_train.shape)\n",
    "print(\"x_test shape:\",x_test.shape)"
   ]
  },
  {
   "cell_type": "markdown",
   "metadata": {},
   "source": [
    "### Normalize \n",
    "As you can see, there are a lot of zeros and then there are very big numbers such as 135 and 132 because the pixel intensity is from 0 to 255. Now we want to normalize this dataset. For this we'll use keras' normalize method stored in `keras.utils.normalize()`"
   ]
  },
  {
   "cell_type": "code",
   "execution_count": 19,
   "metadata": {},
   "outputs": [],
   "source": [
    "x_train = keras.utils.normalize(x_train, axis=1)\n",
    "x_test = keras.utils.normalize(x_test,axis=1)"
   ]
  },
  {
   "cell_type": "markdown",
   "metadata": {
    "colab_type": "text",
    "id": "7P5H94huvr0Y"
   },
   "source": [
    "# **Convolutional Neural Network - CNN**\n",
    "\n",
    "## Meaning\n",
    "#### The name `Convolutional` comes from the word `convolve` which means `roll` or `slide`\n",
    "\n",
    "\n",
    "## How does a computer sees an image?\n",
    "\n",
    "####  An image can be represented as 3D Matrix or a 3 layers deep nested array, having `height`, `width` and `channels - (RGB)` \n",
    "\n",
    "\n",
    "<img src='https://miro.medium.com/max/1100/1*15yDvGKV47a0nkf5qLKOOQ.png' />\n",
    "\n",
    "\n",
    "## Then how does Convolutional Neural work?\n",
    "\n",
    "<center>\n",
    "<img src='https://miro.medium.com/max/1836/1*TwMfGALfE0naUC8pLOK4Vg.jpeg' height='600' width='600' />\n",
    "</center>\n",
    "\n",
    "----------------\n",
    "\n",
    "<center>\n",
    "<img src='dl-teach-imgs/rgb_conv.png' height='600' width='600' />\n",
    "</center>\n",
    "\n",
    "----------------\n",
    "\n",
    "<center>\n",
    "<img src='dl-teach-imgs/multiple_features.png' height='600' width='600' />\n",
    "</center>\n",
    "\n",
    "----------------\n",
    "## **Formula to calculate the output of a convolutional layer**\n",
    "<center>\n",
    "<img src='https://miro.medium.com/max/660/1*D47ER7IArwPv69k3O_1nqQ.png'>\n",
    "</center>\n",
    "\n",
    "-----------\n",
    "\n",
    "## **Strides in CNN**\n",
    "#### Stride of 1 means it slides to next from left to right without jumps.\n",
    "#### Stride of 2 means it will move leave one block while moving from left to right.\n",
    "\n",
    "#### Example of Stride 1 is given below\n",
    "\n",
    "<center>\n",
    "<img src='https://miro.medium.com/max/2560/1*ciDgQEjViWLnCbmX-EeSrA.gif'>\n",
    "</center>\n",
    "\n",
    "-----------\n",
    "\n",
    "\n",
    "## Pooling\n",
    "\n",
    "There are two types of pooling - \n",
    "1. **Average Pooling** - Takes average of the elements in filter during convolving.\n",
    "2. **Max Pooling** - Takes the maximum value in the filter during convolving.\n",
    "\n",
    "#**Intuitive example of Max-Pooling is shown below**\n",
    "\n",
    "<center>\n",
    "<img src='https://miro.medium.com/max/678/1*tpqURdMORniAGj2LnbmwVA.png'>\n",
    "</center>\n",
    "\n",
    "-----------\n",
    "## **How does a Convolutional Neural Network look**\n",
    "\n",
    "<center>\n",
    "<img src='https://miro.medium.com/max/2510/1*vkQ0hXDaQv57sALXAJquxA.jpeg'>\n",
    "</center>\n"
   ]
  },
  {
   "cell_type": "markdown",
   "metadata": {
    "colab_type": "text",
    "id": "4svYISm_d5-F"
   },
   "source": [
    "### Creating Model\n",
    "\n",
    "Now that we have normalized our data, we will create our model. Read more about keras model [here](https://keras.io/getting-started/sequential-model-guide/)."
   ]
  },
  {
   "cell_type": "code",
   "execution_count": 20,
   "metadata": {
    "colab": {
     "base_uri": "https://localhost:8080/",
     "height": 34
    },
    "colab_type": "code",
    "id": "VvIBCIb0d5-G",
    "outputId": "fa822b34-2864-4ab5-947d-bb27dce6bc70"
   },
   "outputs": [
    {
     "data": {
      "text/plain": [
       "(60000, 28, 28, 1)"
      ]
     },
     "execution_count": 20,
     "metadata": {},
     "output_type": "execute_result"
    }
   ],
   "source": [
    "x_train.shape"
   ]
  },
  {
   "cell_type": "code",
   "execution_count": 21,
   "metadata": {
    "colab": {},
    "colab_type": "code",
    "id": "MQ8NRN-_d5-K"
   },
   "outputs": [],
   "source": [
    "model = tf.keras.models.Sequential([\n",
    "  tf.keras.layers.Conv2D(64, (3,3), activation='relu', input_shape=(28, 28, 1)),\n",
    "  tf.keras.layers.MaxPooling2D(2, 2),\n",
    "  tf.keras.layers.Conv2D(64, (3,3), activation='relu'),\n",
    "  tf.keras.layers.MaxPooling2D(2,2),\n",
    "  tf.keras.layers.Flatten(),\n",
    "  tf.keras.layers.Dense(128, activation='relu'),\n",
    "  tf.keras.layers.Dense(10, activation='softmax')\n",
    "])"
   ]
  },
  {
   "cell_type": "markdown",
   "metadata": {},
   "source": [
    "## Architecture of Above network is as below\n",
    "<center>\n",
    "<img src='dl-teach-imgs/ConvNet_1.png' />\n",
    "</center>"
   ]
  },
  {
   "cell_type": "code",
   "execution_count": 22,
   "metadata": {
    "colab": {},
    "colab_type": "code",
    "id": "u4hhjIbId5-M"
   },
   "outputs": [
    {
     "name": "stdout",
     "output_type": "stream",
     "text": [
      "Model: \"sequential_3\"\n",
      "_________________________________________________________________\n",
      "Layer (type)                 Output Shape              Param #   \n",
      "=================================================================\n",
      "conv2d (Conv2D)              (None, 26, 26, 64)        640       \n",
      "_________________________________________________________________\n",
      "max_pooling2d (MaxPooling2D) (None, 13, 13, 64)        0         \n",
      "_________________________________________________________________\n",
      "conv2d_1 (Conv2D)            (None, 11, 11, 64)        36928     \n",
      "_________________________________________________________________\n",
      "max_pooling2d_1 (MaxPooling2 (None, 5, 5, 64)          0         \n",
      "_________________________________________________________________\n",
      "flatten (Flatten)            (None, 1600)              0         \n",
      "_________________________________________________________________\n",
      "dense_6 (Dense)              (None, 128)               204928    \n",
      "_________________________________________________________________\n",
      "dense_7 (Dense)              (None, 10)                1290      \n",
      "=================================================================\n",
      "Total params: 243,786\n",
      "Trainable params: 243,786\n",
      "Non-trainable params: 0\n",
      "_________________________________________________________________\n"
     ]
    }
   ],
   "source": [
    "model.compile(optimizer='adam', loss='sparse_categorical_crossentropy', metrics=['accuracy'])\n",
    "model.summary()"
   ]
  },
  {
   "cell_type": "code",
   "execution_count": 23,
   "metadata": {
    "colab": {
     "base_uri": "https://localhost:8080/",
     "height": 136
    },
    "colab_type": "code",
    "id": "zXwvw9wKd5-R",
    "outputId": "86acfba4-9665-431d-d6ee-fbb91c8de146"
   },
   "outputs": [
    {
     "name": "stdout",
     "output_type": "stream",
     "text": [
      "Train on 54000 samples, validate on 6000 samples\n",
      "Epoch 1/10\n",
      "54000/54000 [==============================] - 33s 603us/sample - loss: 0.1557 - accuracy: 0.9524 - val_loss: 0.0599 - val_accuracy: 0.9812\n",
      "Epoch 2/10\n",
      "54000/54000 [==============================] - 37s 691us/sample - loss: 0.0515 - accuracy: 0.9838 - val_loss: 0.0549 - val_accuracy: 0.9842\n",
      "Epoch 3/10\n",
      "54000/54000 [==============================] - 33s 611us/sample - loss: 0.0351 - accuracy: 0.9889 - val_loss: 0.0353 - val_accuracy: 0.9900\n",
      "Epoch 4/10\n",
      "54000/54000 [==============================] - 33s 618us/sample - loss: 0.0242 - accuracy: 0.9918 - val_loss: 0.0392 - val_accuracy: 0.9890\n",
      "Epoch 5/10\n",
      "54000/54000 [==============================] - 40s 741us/sample - loss: 0.0178 - accuracy: 0.9936 - val_loss: 0.0381 - val_accuracy: 0.9898\n",
      "Epoch 6/10\n",
      "54000/54000 [==============================] - 42s 772us/sample - loss: 0.0129 - accuracy: 0.9953 - val_loss: 0.0501 - val_accuracy: 0.9875\n",
      "Epoch 7/10\n",
      "54000/54000 [==============================] - 35s 655us/sample - loss: 0.0091 - accuracy: 0.9969 - val_loss: 0.0390 - val_accuracy: 0.9912\n",
      "Epoch 8/10\n",
      "54000/54000 [==============================] - 47s 870us/sample - loss: 0.0085 - accuracy: 0.9976 - val_loss: 0.0428 - val_accuracy: 0.9900\n",
      "Epoch 9/10\n",
      "54000/54000 [==============================] - 53s 983us/sample - loss: 0.0083 - accuracy: 0.9971 - val_loss: 0.0395 - val_accuracy: 0.9913\n",
      "Epoch 10/10\n",
      "54000/54000 [==============================] - 50s 922us/sample - loss: 0.0070 - accuracy: 0.9976 - val_loss: 0.0468 - val_accuracy: 0.9915\n"
     ]
    }
   ],
   "source": [
    "epochs = 10\n",
    "history = model.fit(x_train, y_train, epochs=epochs, validation_split= 0.1)"
   ]
  },
  {
   "cell_type": "code",
   "execution_count": 24,
   "metadata": {
    "colab": {},
    "colab_type": "code",
    "id": "XoLbowmid5-T"
   },
   "outputs": [
    {
     "data": {
      "text/plain": [
       "[0.0514933468472399, 0.9893]"
      ]
     },
     "execution_count": 24,
     "metadata": {},
     "output_type": "execute_result"
    }
   ],
   "source": [
    "model.evaluate(x_test, y_test, verbose=0)"
   ]
  },
  {
   "cell_type": "code",
   "execution_count": 25,
   "metadata": {
    "colab": {
     "base_uri": "https://localhost:8080/",
     "height": 215
    },
    "colab_type": "code",
    "id": "R7JGwaT9d5-V",
    "outputId": "5671b5af-aa0a-4665-8943-a628934a2847"
   },
   "outputs": [
    {
     "data": {
      "image/png": "[encoded data removed]",
      "text/plain": [
       "<Figure size 432x288 with 1 Axes>"
      ]
     },
     "metadata": {
      "needs_background": "light"
     },
     "output_type": "display_data"
    },
    {
     "data": {
      "image/png": "[encoded data removed]",
      "text/plain": [
       "<Figure size 432x288 with 1 Axes>"
      ]
     },
     "metadata": {
      "needs_background": "light"
     },
     "output_type": "display_data"
    }
   ],
   "source": [
    "import matplotlib.pyplot as plt\n",
    "\n",
    "def plot_graphs(history, string):\n",
    "  plt.plot(history.history[string])\n",
    "  plt.plot(history.history['val_'+string])\n",
    "  plt.xlabel(\"Epochs\")\n",
    "  plt.ylabel(string)\n",
    "  plt.legend([string, 'val_'+string])\n",
    "  plt.show()\n",
    "\n",
    "plot_graphs(history, 'accuracy')\n",
    "plot_graphs(history, 'loss')"
   ]
  },
  {
   "cell_type": "markdown",
   "metadata": {},
   "source": [
    "## Visualizing the effect of convolutions"
   ]
  },
  {
   "cell_type": "code",
   "execution_count": 26,
   "metadata": {},
   "outputs": [
    {
     "name": "stdout",
     "output_type": "stream",
     "text": [
      "Tensor(\"conv2d/Identity:0\", shape=(None, 26, 26, 64), dtype=float32)\n",
      "Tensor(\"max_pooling2d/Identity:0\", shape=(None, 13, 13, 64), dtype=float32)\n",
      "Tensor(\"conv2d_1/Identity:0\", shape=(None, 11, 11, 64), dtype=float32)\n",
      "Tensor(\"max_pooling2d_1/Identity:0\", shape=(None, 5, 5, 64), dtype=float32)\n",
      "Tensor(\"flatten/Identity:0\", shape=(None, 1600), dtype=float32)\n",
      "Tensor(\"dense_6/Identity:0\", shape=(None, 128), dtype=float32)\n",
      "Tensor(\"dense_7/Identity:0\", shape=(None, 10), dtype=float32)\n"
     ]
    }
   ],
   "source": [
    "for layer in model.layers:\n",
    "    print(layer.output)"
   ]
  },
  {
   "cell_type": "code",
   "execution_count": 27,
   "metadata": {},
   "outputs": [
    {
     "name": "stdout",
     "output_type": "stream",
     "text": [
      "Image labels are: 7, 9, 7 respectively in rows\n"
     ]
    },
    {
     "data": {
      "image/png": "[encoded data removed]",
      "text/plain": [
       "<Figure size 1080x1080 with 12 Axes>"
      ]
     },
     "metadata": {
      "needs_background": "light"
     },
     "output_type": "display_data"
    }
   ],
   "source": [
    "import matplotlib.pyplot as plt\n",
    "test_images = x_test\n",
    "f, axarr = plt.subplots(3,4, figsize=(15, 15))\n",
    "FIRST_IMAGE=0\n",
    "SECOND_IMAGE=7\n",
    "THIRD_IMAGE=26\n",
    "CONVOLUTION_NUMBER = 1\n",
    "\n",
    "print(\"Image labels are: {}, {}, {} respectively in rows\".format(y_test[FIRST_IMAGE], y_test[SECOND_IMAGE], y_test[THIRD_IMAGE]))\n",
    "\n",
    "from tensorflow.keras import models\n",
    "layer_outputs = [layer.output for layer in model.layers]\n",
    "activation_model = tf.keras.models.Model(inputs = model.input, outputs = layer_outputs)\n",
    "for x in range(0,4):\n",
    "  f1 = activation_model.predict(test_images[FIRST_IMAGE].reshape(1, 28, 28, 1))[x]\n",
    "  axarr[0,x].imshow(f1[0, : , :, CONVOLUTION_NUMBER], cmap='inferno')\n",
    "  axarr[0,x].grid(False)\n",
    "  f2 = activation_model.predict(test_images[SECOND_IMAGE].reshape(1, 28, 28, 1))[x]\n",
    "  axarr[1,x].imshow(f2[0, : , :, CONVOLUTION_NUMBER], cmap='inferno')\n",
    "  axarr[1,x].grid(False)\n",
    "  f3 = activation_model.predict(test_images[THIRD_IMAGE].reshape(1, 28, 28, 1))[x]\n",
    "  axarr[2,x].imshow(f3[0, : , :, CONVOLUTION_NUMBER], cmap='inferno')\n",
    "  axarr[2,x].grid(False)"
   ]
  },
  {
   "cell_type": "markdown",
   "metadata": {},
   "source": [
    "## Thank You."
   ]
  }
 ],
 "metadata": {
  "accelerator": "GPU",
  "colab": {
   "collapsed_sections": [],
   "name": "MNIST - CNN - Example.ipynb",
   "provenance": [],
   "toc_visible": true
  },
  "kernelspec": {
   "display_name": "Python 3",
   "language": "python",
   "name": "python3"
  },
  "language_info": {
   "codemirror_mode": {
    "name": "ipython",
    "version": 3
   },
   "file_extension": ".py",
   "mimetype": "text/x-python",
   "name": "python",
   "nbconvert_exporter": "python",
   "pygments_lexer": "ipython3",
   "version": "3.7.3"
  }
 },
 "nbformat": 4,
 "nbformat_minor": 4
}
